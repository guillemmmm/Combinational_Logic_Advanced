{
 "cells": [
  {
   "cell_type": "code",
   "execution_count": 38,
   "id": "28906227",
   "metadata": {},
   "outputs": [],
   "source": [
    "import math \n",
    "\n",
    "Nbits =12\n",
    "\n",
    "def convert_to_binary_and_generate_lines(number):\n",
    "    \"\"\"Convertir cada número a binario de 16 bits y generar líneas para bits que son 1.\"\"\"\n",
    "\n",
    "    line=\"\"\n",
    "    # Convertir a binario y eliminar el prefijo '0b'\n",
    "    binary_str = format(number, '016b')\n",
    "    #binary_str = format(number, '0'+str(Nbits)+'b')\n",
    "\n",
    "    # Obtener los índices de los bits que son 1 (invirtiendo los índices)\n",
    "    #ones_indices = [15 - i for i, bit in enumerate(binary_str) if bit == '1']\n",
    "    #print (number)\n",
    "    #print(binary_str)\n",
    "    ones_indices = [16 -1 - i for i, bit in enumerate(binary_str) if bit == '1']\n",
    "\n",
    "    if ones_indices:  # Solo crear línea si hay bits que son 1\n",
    "        line = ' & '.join([f'numA[{index}]' for index in ones_indices])\n",
    "        line = \"\\t\\t\\t\\t (\" + line + \") |\\n\"\n",
    "        #results.append(line)\n",
    "    else:\n",
    "        #results.append(\"No hay bits que son 1\")  # Para el caso de 0\n",
    "        a=1\n",
    "\n",
    "    return line\n",
    "def modify_verilog_file(verilog_file, output_file, data_list):\n",
    "    with open(verilog_file, 'r') as infile, open(output_file, 'w') as outfile:\n",
    "        add_lines = False\n",
    "        hex_format = '{:04x}'  # Formato para hexadecimal de 4 cifras\n",
    "\n",
    "        for line in infile:\n",
    "            # Escribir la línea actual del archivo Verilog\n",
    "            outfile.write(line)\n",
    "\n",
    "            # Detectar la línea que contiene `//start python`\n",
    "            if '//start python' in line:\n",
    "                add_lines = True  # Activar el flag para agregar líneas\n",
    "                continue\n",
    "\n",
    "            # Añadir las nuevas líneas después de `//start python`\n",
    "            if add_lines:\n",
    "                for idx, num in enumerate(data_list):\n",
    "                    new_line = convert_to_binary_and_generate_lines(num)\n",
    "                    outfile.write(new_line)\n",
    "                add_lines = False  # Desactivar el flag una vez que se agreguen las líneas\n",
    "\n",
    "# Lista de números que quieres añadir a las líneas\n",
    "#factor de escala K\n",
    "K = 1000\n",
    "data_list = []\n",
    "for i in range(1,2**Nbits):\n",
    "    log_value = math.log(i) * K  # Logaritmo natural\n",
    "    # Redondear el valor a un entero si es necesario\n",
    "    rounded_value = int(round(log_value))\n",
    "    data_list.append(rounded_value)\n",
    "\n",
    "# Archivo Verilog de entrada y archivo de salida\n",
    "verilog_file = 'log_e_py.v'   # Cambiar por tu archivo de entrada\n",
    "output_file = 'log_e.v'   # Cambiar por el archivo de salida\n",
    "\n",
    "# Llamar a la función para modificar el archivo\n",
    "modify_verilog_file(verilog_file, output_file, data_list)\n"
   ]
  },
  {
   "cell_type": "code",
   "execution_count": 39,
   "id": "6934b26c",
   "metadata": {},
   "outputs": [
    {
     "ename": "TypeError",
     "evalue": "unsupported format string passed to list.__format__",
     "output_type": "error",
     "traceback": [
      "\u001b[1;31m---------------------------------------------------------------------------\u001b[0m",
      "\u001b[1;31mTypeError\u001b[0m                                 Traceback (most recent call last)",
      "\u001b[1;32m~\\AppData\\Local\\Temp\\ipykernel_9288\\2376448114.py\u001b[0m in \u001b[0;36m<module>\u001b[1;34m\u001b[0m\n\u001b[0;32m      4\u001b[0m     \u001b[0mnumbers\u001b[0m \u001b[1;33m=\u001b[0m \u001b[1;33m[\u001b[0m\u001b[1;36m3\u001b[0m\u001b[1;33m,\u001b[0m \u001b[1;36m5\u001b[0m\u001b[1;33m,\u001b[0m \u001b[1;36m8\u001b[0m\u001b[1;33m,\u001b[0m \u001b[1;36m0\u001b[0m\u001b[1;33m,\u001b[0m \u001b[1;36m15\u001b[0m\u001b[1;33m]\u001b[0m\u001b[1;33m\u001b[0m\u001b[1;33m\u001b[0m\u001b[0m\n\u001b[0;32m      5\u001b[0m \u001b[1;33m\u001b[0m\u001b[0m\n\u001b[1;32m----> 6\u001b[1;33m     \u001b[0mlines\u001b[0m \u001b[1;33m=\u001b[0m \u001b[0mconvert_to_binary_and_generate_lines\u001b[0m\u001b[1;33m(\u001b[0m\u001b[0mnumbers\u001b[0m\u001b[1;33m)\u001b[0m\u001b[1;33m\u001b[0m\u001b[1;33m\u001b[0m\u001b[0m\n\u001b[0m\u001b[0;32m      7\u001b[0m \u001b[1;33m\u001b[0m\u001b[0m\n\u001b[0;32m      8\u001b[0m     \u001b[1;32mfor\u001b[0m \u001b[0mline\u001b[0m \u001b[1;32min\u001b[0m \u001b[0mlines\u001b[0m\u001b[1;33m:\u001b[0m\u001b[1;33m\u001b[0m\u001b[1;33m\u001b[0m\u001b[0m\n",
      "\u001b[1;32m~\\AppData\\Local\\Temp\\ipykernel_9288\\604221964.py\u001b[0m in \u001b[0;36mconvert_to_binary_and_generate_lines\u001b[1;34m(number)\u001b[0m\n\u001b[0;32m      8\u001b[0m     \u001b[0mline\u001b[0m\u001b[1;33m=\u001b[0m\u001b[1;34m\"\"\u001b[0m\u001b[1;33m\u001b[0m\u001b[1;33m\u001b[0m\u001b[0m\n\u001b[0;32m      9\u001b[0m     \u001b[1;31m# Convertir a binario y eliminar el prefijo '0b'\u001b[0m\u001b[1;33m\u001b[0m\u001b[1;33m\u001b[0m\u001b[0m\n\u001b[1;32m---> 10\u001b[1;33m     \u001b[0mbinary_str\u001b[0m \u001b[1;33m=\u001b[0m \u001b[0mformat\u001b[0m\u001b[1;33m(\u001b[0m\u001b[0mnumber\u001b[0m\u001b[1;33m,\u001b[0m \u001b[1;34m'016b'\u001b[0m\u001b[1;33m)\u001b[0m\u001b[1;33m\u001b[0m\u001b[1;33m\u001b[0m\u001b[0m\n\u001b[0m\u001b[0;32m     11\u001b[0m     \u001b[1;31m#binary_str = format(number, '0'+str(Nbits)+'b')\u001b[0m\u001b[1;33m\u001b[0m\u001b[1;33m\u001b[0m\u001b[0m\n\u001b[0;32m     12\u001b[0m \u001b[1;33m\u001b[0m\u001b[0m\n",
      "\u001b[1;31mTypeError\u001b[0m: unsupported format string passed to list.__format__"
     ]
    }
   ],
   "source": [
    "\n",
    "\n",
    "# Ejemplo de uso\n",
    "if __name__ == \"__main__\":\n",
    "    # Lista de números de ejemplo\n",
    "    numbers = [3, 5, 8, 0, 15]\n",
    "    \n",
    "    lines = convert_to_binary_and_generate_lines(numbers)\n",
    "    \n",
    "    for line in lines:\n",
    "        print(line)\n"
   ]
  },
  {
   "cell_type": "code",
   "execution_count": null,
   "id": "e9f6fe40",
   "metadata": {},
   "outputs": [],
   "source": []
  },
  {
   "cell_type": "code",
   "execution_count": 31,
   "id": "11d4e134",
   "metadata": {},
   "outputs": [
    {
     "data": {
      "text/plain": [
       "'11'"
      ]
     },
     "execution_count": 31,
     "metadata": {},
     "output_type": "execute_result"
    }
   ],
   "source": [
    "format(3, '0'+str(Nbits)+'b')"
   ]
  },
  {
   "cell_type": "code",
   "execution_count": null,
   "id": "683aa8ab",
   "metadata": {},
   "outputs": [],
   "source": []
  }
 ],
 "metadata": {
  "kernelspec": {
   "display_name": "Python 3 (ipykernel)",
   "language": "python",
   "name": "python3"
  },
  "language_info": {
   "codemirror_mode": {
    "name": "ipython",
    "version": 3
   },
   "file_extension": ".py",
   "mimetype": "text/x-python",
   "name": "python",
   "nbconvert_exporter": "python",
   "pygments_lexer": "ipython3",
   "version": "3.9.13"
  }
 },
 "nbformat": 4,
 "nbformat_minor": 5
}

{
 "cells": [
  {
   "cell_type": "markdown",
   "id": "671535de",
   "metadata": {},
   "source": [
    "# Python Code to make the logic first approach of a truth table"
   ]
  },
  {
   "cell_type": "markdown",
   "id": "e0fcf490",
   "metadata": {},
   "source": [
    "-> A .v (verilog file) is needed\n",
    "\n",
    "-> We have to create an array/matrix which will represent the truth table\n",
    "\n",
    "-> The code takes de .v and the matrix and create a .v file with lots of logic elements. Then the size can be reduced by passign it through a syntethizer."
   ]
  },
  {
   "cell_type": "markdown",
   "id": "273c06e1",
   "metadata": {},
   "source": [
    "## Function to convert a line of the matrix from integer input to binary output"
   ]
  },
  {
   "cell_type": "markdown",
   "id": "3208b58b",
   "metadata": {},
   "source": [
    "-> In: Must be a integer which will be the input binary number\n",
    "\n",
    "-> BitIn: Length of the input\n",
    "\n",
    "-> Out: Is the output of the truth table\n",
    "\n",
    "-> BitOut: Length of the output\n",
    "\n",
    "->strIN: name of the input register (ex: regIN[length-1:0])\n",
    "\n",
    "->end: if 1 this means that is an end line and whill put a \";\" at the end"
   ]
  },
  {
   "cell_type": "code",
   "execution_count": 1,
   "id": "e285b548",
   "metadata": {},
   "outputs": [],
   "source": [
    "def convert_to_binary_and_generate_lines(In, BitIn, Out, BitOut, strIN, end):\n",
    "    \"\"\"Convertir cada número a binario de 16 bits y generar líneas para bits que son 1.\"\"\"\n",
    "\n",
    "    line=\"\" #line to be written\n",
    "    \n",
    "    # convert to binary string\n",
    "    binary_str_Out = format(Out, f\"0{BitOut}b\")\n",
    "    binary_str_In = format(In, f\"0{BitIn}b\")\n",
    "    \n",
    "    #print(binary_str_In)\n",
    "    #print(binary_str_Out)\n",
    "    \n",
    "\n",
    "    # Obtener los índices de los bits que son 1 (invirtiendo los índices)\n",
    "    #ones_indices = [15 - i for i, bit in enumerate(binary_str) if bit == '1']\n",
    "    #print (number)\n",
    "    #print(binary_str)\n",
    "    lineG=\"\"\n",
    "    for jind,j in enumerate(binary_str_Out):\n",
    "        if(j==\"1\"): #Para cada linea que ES 1\n",
    "            terms=[]\n",
    "            for ind,bit in enumerate(binary_str_In):\n",
    "                if bit==\"1\":\n",
    "                    term = f\"({strIN}[{BitIn - 1 - ind}])\"\n",
    "                else:\n",
    "                    term = f\"(~{strIN}[{BitIn - 1 - ind}])\"\n",
    "                terms.append(term)\n",
    "            and_expression = \"&\".join(terms)\n",
    "            #line = \"\\t\\t\\t\\t ((\" + and_expression + \")<<(\"+str(BitOut-1-jind)+\")) |\\n\" #we can put as many tabs we want\n",
    "            line = \"\\t\\t ((\" + and_expression + \")<<(\"+str(BitOut-1-jind)+\")) |\\n\" #we can put as many tabs we want\n",
    "            lineG = lineG+line\n",
    "    \n",
    "    if(end==1):\n",
    "        lineG=lineG + \"\\t\\t 1'b0 ; \\n\" #es irrelevante ya que trabajamos con or y se eliminara\n",
    "    return lineG"
   ]
  },
  {
   "cell_type": "markdown",
   "id": "46ea0813",
   "metadata": {},
   "source": [
    "#PRUEBA\n",
    "\n",
    "In = 7\n",
    "BitIn = 8\n",
    "Out= 10039\n",
    "BitOut = 16\n",
    "strIN=\"inLine_ld\"\n",
    "\n",
    "\n",
    "a=convert_to_binary_and_generate_lines(In, BitIn, Out, BitOut, strIN, 1)\n",
    "print(a)"
   ]
  },
  {
   "cell_type": "markdown",
   "id": "33dd181f",
   "metadata": {},
   "source": [
    "## Function to create the verilog file ##"
   ]
  },
  {
   "cell_type": "markdown",
   "id": "e618a5a6",
   "metadata": {},
   "source": [
    "-> verilog_file : Is the input verilog file in where the truth table will be inserted\n",
    "\n",
    "-> output_file : The output verilog file\n",
    "\n",
    "-> strStart : Is the comment line of the input line where the combinational logic need to be inserted\n",
    "\n",
    "-> data_list[2][N] : 2-dimensional N vector whre the first component are the input values and the second the output"
   ]
  },
  {
   "cell_type": "code",
   "execution_count": 2,
   "id": "95d68f13",
   "metadata": {},
   "outputs": [],
   "source": [
    "def modify_verilog_file(verilog_file, output_file, strStart, data_list, StrIn, BitIn, BitOut):\n",
    "    with open(verilog_file, 'r') as infile, open(output_file, 'w') as outfile:\n",
    "        add_lines = False\n",
    "\n",
    "        for line in infile:\n",
    "            # Escribir la línea actual del archivo Verilog\n",
    "            outfile.write(line)\n",
    "\n",
    "            # Detectar la línea que contiene `//start python`\n",
    "            if strStart in line: #linea de start Python\n",
    "                add_lines = True  # Activar el flag para agregar líneas\n",
    "                continue\n",
    "\n",
    "            # Añadir las nuevas líneas después de `//start python`\n",
    "            if add_lines:\n",
    "                \n",
    "                for i in range(0,len(data_list[0])):\n",
    "                    if(i==(len(data_list[0])-1)):\n",
    "                        new_line=convert_to_binary_and_generate_lines(data_list[0][i], BitIn, data_list[1][i], BitOut, StrIn, 1)\n",
    "                    else:\n",
    "                        new_line=convert_to_binary_and_generate_lines(data_list[0][i], BitIn, data_list[1][i], BitOut, StrIn, 0)\n",
    "                    outfile.write(new_line)\n",
    "                add_lines = False  # Desactivar el flag una vez que se agreguen las líneas"
   ]
  },
  {
   "cell_type": "markdown",
   "id": "d439c87e",
   "metadata": {},
   "source": [
    "## Example"
   ]
  },
  {
   "cell_type": "markdown",
   "id": "e8df9ac7",
   "metadata": {},
   "source": [
    "El fitxer d'entrada es diu \"verilog_py.v\" i el de sortida es dira \"log_e.v\""
   ]
  },
  {
   "cell_type": "markdown",
   "id": "fcae082c",
   "metadata": {},
   "source": [
    "## Funcion a desarrollar (creamos matriz de In / Out)"
   ]
  },
  {
   "cell_type": "code",
   "execution_count": 3,
   "id": "ed57aed3",
   "metadata": {},
   "outputs": [],
   "source": [
    "# la funcion toma un numero entero y calcula el log en base 2 más cercano entero (por debajo)\n",
    "def fun(x):\n",
    "    if(x<2): # si es log(0) o log(1) retornem 0\n",
    "        return 0\n",
    "    else:\n",
    "        i=0\n",
    "        while(x>2**i):\n",
    "            i+=1\n",
    "        y=i-1\n",
    "        return y"
   ]
  },
  {
   "cell_type": "code",
   "execution_count": 4,
   "id": "ce300197",
   "metadata": {},
   "outputs": [],
   "source": [
    "# ahora cojemos el programa verilog_py,\n",
    "# donde tenemos como configuracion:\n",
    "#   bitIn = 12 i bitOut = 4\n",
    "#   el señal se llama \"numA\" y el start se llama \"//start python\" (hay 4 tabuladores)\n",
    "verilog_file = \"verilog_py.v\"\n",
    "output_file = \"log2n_integer.v\"\n",
    "strStart=\"//start python\"\n",
    "StrIn=\"numA\"\n",
    "BitIn = 12\n",
    "BitOut = 4\n",
    "\n",
    "data_list = [[],[]]\n",
    "\n",
    "for i in range(0, 2**BitIn):\n",
    "    data_list[0].append(i)\n",
    "    data_list[1].append(fun(i))\n",
    "\n",
    "modify_verilog_file(verilog_file, output_file, strStart, data_list, StrIn, BitIn, BitOut)"
   ]
  }
 ],
 "metadata": {
  "kernelspec": {
   "display_name": "Python 3 (ipykernel)",
   "language": "python",
   "name": "python3"
  },
  "language_info": {
   "codemirror_mode": {
    "name": "ipython",
    "version": 3
   },
   "file_extension": ".py",
   "mimetype": "text/x-python",
   "name": "python",
   "nbconvert_exporter": "python",
   "pygments_lexer": "ipython3",
   "version": "3.9.13"
  }
 },
 "nbformat": 4,
 "nbformat_minor": 5
}
